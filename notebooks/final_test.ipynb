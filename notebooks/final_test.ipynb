{
  "cells": [
    {
      "cell_type": "code",
      "execution_count": 1,
      "metadata": {
        "id": "yf9RO2DGST4q"
      },
      "outputs": [],
      "source": [
        "import pandas as pd\n",
        "from sklearn.model_selection import train_test_split\n",
        "from sklearn.metrics import roc_auc_score, f1_score, recall_score, precision_score\n",
        "from sklearn.model_selection import GridSearchCV\n",
        "import joblib"
      ]
    },
    {
      "cell_type": "code",
      "execution_count": 2,
      "metadata": {
        "id": "SX8f5lWMTqId"
      },
      "outputs": [],
      "source": [
        "test_data = pd.read_parquet('../data/test_sber.parquet')"
      ]
    },
    {
      "cell_type": "code",
      "execution_count": 3,
      "metadata": {
        "colab": {
          "base_uri": "https://localhost:8080/"
        },
        "id": "TtCgc3WDUgBQ",
        "outputId": "8cc8cbef-cbb2-4a61-a6c6-8e616a455a84"
      },
      "outputs": [
        {
          "data": {
            "text/plain": [
              "(173433, 1078)"
            ]
          },
          "execution_count": 3,
          "metadata": {},
          "output_type": "execute_result"
        }
      ],
      "source": [
        "test_data.shape"
      ]
    },
    {
      "cell_type": "code",
      "execution_count": 4,
      "metadata": {
        "id": "rlS2ASNoXrCS"
      },
      "outputs": [],
      "source": [
        "single_value_columns = ['feature68', 'feature69', 'feature144', 'feature160', 'feature292',\n",
        "       'feature406', 'feature407', 'feature496', 'feature511', 'feature625',\n",
        "       'feature661', 'feature663', 'feature669', 'feature678', 'feature683',\n",
        "       'feature686', 'feature710', 'feature761', 'feature765', 'feature801',\n",
        "       'feature802', 'feature806', 'feature807', 'feature808', 'feature809',\n",
        "       'feature816', 'feature818', 'feature819', 'feature955', 'feature956',\n",
        "       'feature957', 'feature958', 'feature959', 'feature960', 'feature961',\n",
        "       'feature962', 'feature963', 'feature964', 'feature965', 'feature966',\n",
        "       'feature967', 'feature968', 'feature969', 'feature970', 'feature971',\n",
        "       'feature972', 'feature973', 'feature974', 'feature975', 'feature976',\n",
        "       'feature977', 'feature978', 'feature979', 'feature980', 'feature981',\n",
        "       'feature982', 'feature983', 'feature984', 'feature1005', 'feature1006',\n",
        "       'feature1007', 'feature1008', 'feature1009', 'feature1010',\n",
        "       'feature1011', 'feature1012', 'feature1013', 'feature1014',\n",
        "       'feature1015', 'feature1016', 'feature1017', 'feature1018',\n",
        "       'feature1019', 'feature1020', 'feature1021', 'feature1022',\n",
        "       'feature1023', 'feature1024', 'feature1025', 'feature1026',\n",
        "       'feature1027', 'feature1028', 'feature1029', 'feature1030',\n",
        "       'feature1031', 'feature1032', 'feature1033', 'feature1034']"
      ]
    },
    {
      "cell_type": "code",
      "execution_count": 5,
      "metadata": {
        "id": "8OWesWrkXw1V"
      },
      "outputs": [],
      "source": [
        "unnenessary_columns = ['feature711', 'feature700', 'feature662', 'feature886', 'feature26', 'feature281', 'feature744', 'feature910', 'feature617', 'feature701', 'feature321', 'feature889', 'feature27', 'feature28', 'feature23', 'feature301', 'feature774', 'feature325', 'feature719', 'feature775', 'feature302', 'feature285', 'feature748', 'feature404', 'feature66', 'feature682', 'feature685', 'feature60', 'feature394', 'feature389', 'feature645', 'feature388', 'feature387', 'feature466', 'feature431', 'feature884', 'feature567', 'feature408', 'feature70', 'feature821', 'feature722', 'feature618', 'feature273', 'feature823', 'feature796', 'feature570', 'feature568', 'feature215', 'feature293', 'feature766', 'feature224', 'feature216', 'feature768', 'feature295', 'feature1037', 'feature1058', 'feature1044', 'feature644', 'feature619', 'feature709', 'feature704', 'feature571', 'feature289', 'feature752', 'feature225', 'feature670', 'feature628', 'feature885', 'feature835', 'feature276', 'feature833', 'feature731', 'feature627', 'feature227', 'feature228', 'feature92', 'feature430', 'feature312', 'feature390', 'feature650', 'feature729', 'feature707', 'feature599', 'feature660', 'feature855', 'feature203', 'feature556', 'feature574', 'feature230', 'feature229', 'feature649', 'feature566', 'feature217', 'feature297', 'feature770', 'feature498', 'feature146', 'feature423', 'feature85', 'feature81', 'feature419', 'feature399', 'feature64', 'feature575', 'feature588', 'feature311', 'feature784', 'feature578', 'feature478', 'feature634', 'feature786', 'feature789', 'feature841', 'feature633', 'feature843', 'feature737', 'feature278', 'feature1049', 'feature558', 'feature205', 'feature1050', 'feature82', 'feature420', 'feature1051', 'feature562', 'feature565', 'feature140', 'feature492', 'feature694', 'feature403', 'feature65', 'feature1052', 'feature131', 'feature483', 'feature735', 'feature643', 'feature705', 'feature684', 'feature1053', 'feature671', 'feature804', 'feature803', 'feature785', 'feature36', 'feature536', 'feature824', 'feature328', 'feature329', 'feature822', 'feature425', 'feature87', 'feature128', 'feature480', 'feature563', 'feature697', 'feature780', 'feature307', 'feature616', 'feature679', 'feature1054', 'feature421', 'feature83', 'feature903', 'feature797', 'feature327', 'feature324', 'feature798', 'feature902', 'feature904', 'feature905', 'feature326', 'feature715', 'feature880', 'feature881', 'feature883', 'feature882', 'feature712', 'feature658', 'feature702', 'feature699', 'feature439', 'feature97', 'feature61', 'feature397', 'feature186', 'feature720', 'feature405', 'feature231', 'feature842', 'feature844', 'feature56', 'feature380', 'feature333', 'feature834', 'feature332', 'feature836', 'feature771', 'feature298', 'feature626', 'feature1055', 'feature620', 'feature629', 'feature442', 'feature100', 'feature637', 'feature689', 'feature202', 'feature555', 'feature713', 'feature561', 'feature636', 'feature847', 'feature279', 'feature740', 'feature845', 'feature714', 'feature274', 'feature725', 'feature827', 'feature621', 'feature825', 'feature635', 'feature214', 'feature564', 'feature57', 'feature381', 'feature708', 'feature72', 'feature410', 'feature31', 'feature769', 'feature296', 'feature542', 'feature673', 'feature622', 'feature674', 'feature738', 'feature895', 'feature42', 'feature41', 'feature365', 'feature363', 'feature362', 'feature364', 'feature168', 'feature521', 'feature672', 'feature791', 'feature1043', 'feature80', 'feature418', 'feature762', 'feature197', 'feature550', 'feature386', 'feature790', 'feature839', 'feature277', 'feature630', 'feature837', 'feature734', 'feature631', 'feature723', 'feature773', 'feature300', 'feature471', 'feature123', 'feature772', 'feature299', 'feature640', 'feature667', 'feature638', 'feature306', 'feature779', 'feature196', 'feature549', 'feature743', 'feature639', 'feature849', 'feature851', 'feature280']"
      ]
    },
    {
      "cell_type": "code",
      "execution_count": 6,
      "metadata": {
        "id": "yJ7o1FU50q9q"
      },
      "outputs": [],
      "source": [
        "low_corr_columns = ['id', 'feature2', 'feature37', 'feature38', 'feature39', 'feature40', 'feature45', 'feature49', 'feature53', 'feature58', 'feature59', 'feature71', 'feature75', 'feature76', 'feature78', 'feature84', 'feature86', 'feature95', 'feature99', 'feature106', 'feature110', 'feature111', 'feature112', 'feature113', 'feature115', 'feature116', 'feature125', 'feature127', 'feature133', 'feature137', 'feature139', 'feature143', 'feature145', 'feature147', 'feature152', 'feature153', 'feature155', 'feature161', 'feature162', 'feature163', 'feature164', 'feature166', 'feature167', 'feature169', 'feature170', 'feature171', 'feature173', 'feature174', 'feature175', 'feature176', 'feature194', 'feature195', 'feature199', 'feature200', 'feature218', 'feature219', 'feature220', 'feature221', 'feature222', 'feature223', 'feature260', 'feature268', 'feature275', 'feature286', 'feature288', 'feature290', 'feature303', 'feature304', 'feature305', 'feature336', 'feature342', 'feature345', 'feature346', 'feature352', 'feature353', 'feature369', 'feature401', 'feature409', 'feature414', 'feature422', 'feature424', 'feature429', 'feature432', 'feature433', 'feature434', 'feature435', 'feature436', 'feature441', 'feature457', 'feature458', 'feature460', 'feature461', 'feature463', 'feature464', 'feature465', 'feature467', 'feature473', 'feature476', 'feature477', 'feature488', 'feature489', 'feature494', 'feature506', 'feature512', 'feature514', 'feature515', 'feature519', 'feature520', 'feature522', 'feature528', 'feature529', 'feature530', 'feature531', 'feature534', 'feature540', 'feature548', 'feature552', 'feature559', 'feature560', 'feature569', 'feature576', 'feature577', 'feature624', 'feature648', 'feature651', 'feature657', 'feature666', 'feature677', 'feature698', 'feature726', 'feature749', 'feature753', 'feature757', 'feature759', 'feature760', 'feature776', 'feature778', 'feature787', 'feature792', 'feature793', 'feature800', 'feature811', 'feature813', 'feature814', 'feature815', 'feature820', 'feature829', 'feature830', 'feature831', 'feature832', 'feature846', 'feature856', 'feature866', 'feature867', 'feature897', 'feature913', 'feature914', 'feature915', 'feature920', 'feature921', 'feature922', 'feature923', 'feature924', 'feature925', 'feature926', 'feature927', 'feature928', 'feature937', 'feature938', 'feature945', 'feature946', 'feature947', 'feature985', 'feature1035', 'feature1038', 'feature1039', 'feature1040', 'feature1041', 'feature1042', 'feature1057']"
      ]
    },
    {
      "cell_type": "code",
      "execution_count": 7,
      "metadata": {
        "id": "jcvirJ9y2_zr"
      },
      "outputs": [],
      "source": [
        "a_lot_colums = ['feature48', 'feature372', 'feature412', 'feature74', 'feature805', 'feature716', 'feature718', 'feature717', 'feature728', 'feature848', 'feature337', 'feature767', 'feature294', 'feature741', 'feature932', 'feature417', 'feature79', 'feature382', 'feature828', 'feature331', 'feature706', 'feature557', 'feature204', 'feature44', 'feature416', 'feature373', 'feature1045', 'feature1046', 'feature1047', 'feature1048', 'feature413', 'feature878', 'feature383', 'feature544', 'feature732', 'feature888', 'feature335', 'feature840', 'feature703', 'feature339', 'feature852', 'feature52', 'feature376', 'feature384', 'feature788', 'feature659', 'feature456', 'feature935', 'feature400', 'feature758', 'feature755', 'feature838', 'feature334', 'feature291', 'feature764', 'feature1036', 'feature687', 'feature538', 'feature995', 'feature308', 'feature781', 'feature377', 'feature1063', 'feature1070', 'feature693', 'feature1064', 'feature1071', 'feature1056', 'feature1065', 'feature1072', 'feature415', 'feature77', 'feature850', 'feature338', 'feature184', 'feature688', 'feature652', 'feature158', 'feature510', 'feature117', 'feature462', 'feature1062', 'feature1061', 'feature1060', 'feature1059', 'feature366', 'feature1073', 'feature1066', 'feature411', 'feature73', 'feature484', 'feature132']"
      ]
    },
    {
      "cell_type": "code",
      "execution_count": 8,
      "metadata": {
        "id": "eyH6u7rM4Ifc"
      },
      "outputs": [],
      "source": [
        "a_small_columns = ['feature863', 'feature853', 'feature351', 'feature323', 'feature322', 'feature911', 'feature572', 'feature533']"
      ]
    },
    {
      "cell_type": "code",
      "execution_count": 9,
      "metadata": {
        "id": "KacDmcbdCQa1"
      },
      "outputs": [],
      "source": [
        "multy_columns = ['feature3', 'feature4', 'feature5', 'feature7', 'feature8', 'feature9', 'feature10', 'feature11', 'feature13', 'feature14', 'feature15', 'feature16', 'feature17', 'feature18', 'feature19', 'feature21', 'feature24', 'feature25', 'feature29', 'feature30', 'feature32', 'feature46', 'feature47', 'feature50', 'feature51', 'feature54', 'feature55', 'feature62', 'feature63', 'feature67', 'feature88', 'feature89', 'feature90', 'feature96', 'feature98', 'feature101', 'feature102', 'feature103', 'feature104', 'feature105', 'feature108', 'feature109', 'feature114', 'feature118', 'feature119', 'feature120', 'feature121', 'feature122', 'feature126', 'feature129', 'feature130', 'feature134', 'feature135', 'feature136', 'feature138', 'feature141', 'feature142', 'feature148', 'feature149', 'feature150', 'feature151', 'feature156', 'feature157', 'feature165', 'feature172', 'feature177', 'feature180', 'feature181', 'feature182', 'feature185', 'feature187', 'feature188', 'feature189', 'feature190', 'feature193', 'feature198', 'feature201', 'feature206', 'feature207', 'feature208', 'feature209', 'feature210', 'feature211', 'feature212', 'feature213', 'feature232', 'feature233', 'feature234', 'feature235', 'feature236', 'feature237', 'feature238', 'feature239', 'feature240', 'feature241', 'feature242', 'feature243', 'feature244', 'feature245', 'feature246', 'feature247', 'feature248', 'feature249', 'feature250', 'feature251', 'feature252', 'feature253', 'feature254', 'feature255', 'feature256', 'feature257', 'feature258', 'feature259', 'feature261', 'feature263', 'feature264', 'feature265', 'feature266', 'feature269', 'feature270', 'feature271', 'feature272', 'feature282', 'feature284', 'feature309', 'feature310', 'feature313', 'feature314', 'feature315', 'feature317', 'feature318', 'feature343', 'feature344', 'feature347', 'feature348', 'feature349', 'feature350', 'feature354', 'feature355', 'feature358', 'feature360', 'feature361', 'feature368', 'feature370', 'feature371', 'feature374', 'feature375', 'feature379', 'feature391', 'feature392', 'feature393', 'feature396', 'feature398', 'feature426', 'feature427', 'feature428', 'feature437', 'feature438', 'feature444', 'feature445', 'feature468', 'feature469', 'feature474', 'feature479', 'feature481', 'feature485', 'feature486', 'feature487', 'feature490', 'feature493', 'feature495', 'feature497', 'feature517', 'feature523', 'feature524', 'feature535', 'feature539', 'feature543', 'feature545', 'feature546', 'feature579', 'feature580', 'feature581', 'feature582', 'feature583', 'feature584', 'feature585', 'feature586', 'feature589', 'feature590', 'feature591', 'feature592', 'feature593', 'feature594', 'feature595', 'feature596', 'feature597', 'feature598', 'feature600', 'feature601', 'feature602', 'feature603', 'feature604', 'feature605', 'feature606', 'feature607', 'feature608', 'feature609', 'feature610', 'feature611', 'feature612', 'feature613', 'feature614', 'feature615', 'feature632', 'feature641', 'feature646', 'feature647', 'feature653', 'feature675', 'feature676', 'feature680', 'feature681', 'feature691', 'feature692', 'feature695', 'feature696', 'feature721', 'feature724', 'feature730', 'feature733', 'feature736', 'feature739', 'feature742', 'feature745', 'feature746', 'feature747', 'feature763', 'feature810', 'feature812', 'feature826', 'feature857', 'feature858', 'feature859', 'feature860', 'feature864', 'feature865', 'feature868', 'feature869', 'feature871', 'feature872', 'feature873', 'feature874', 'feature875', 'feature876', 'feature877', 'feature879', 'feature887', 'feature891', 'feature896', 'feature900', 'feature907', 'feature908', 'feature909', 'feature930', 'feature931', 'feature939', 'feature940', 'feature941', 'feature942', 'feature943', 'feature944', 'feature951', 'feature952', 'feature953', 'feature986', 'feature987', 'feature989', 'feature990', 'feature991', 'feature992', 'feature993', 'feature994', 'feature996', 'feature998', 'feature999', 'feature1000', 'feature1001', 'feature1002', 'feature1003', 'feature1067', 'feature1068', 'feature1069', 'feature1074', 'feature1076']"
      ]
    },
    {
      "cell_type": "code",
      "execution_count": 29,
      "metadata": {
        "id": "WbtjaJNBU-L8"
      },
      "outputs": [],
      "source": [
        "def prepare_dataset(test_data): #подготовка данных для последующего обучения\n",
        "  X = test_data.drop(['feature756', 'feature642', 'sample_ml_new'], axis=1)\n",
        "  X = X.drop(single_value_columns, axis=1)\n",
        "  X = X.drop(unnenessary_columns, axis=1)\n",
        "  X = X.drop(low_corr_columns, axis=1)\n",
        "  X = X.drop(a_lot_colums, axis=1)\n",
        "  X = X.drop(a_small_columns, axis=1)\n",
        "  X = X.drop(multy_columns, axis=1)\n",
        "  scaler = joblib.load('scaler_80_20_new.joblib')\n",
        "  pca = joblib.load('pca_80_20_new.joblib')\n",
        "\n",
        "  X_scaled = scaler.transform(X)\n",
        "  X_pca = pca.transform(X_scaled)\n",
        "\n",
        "  return X_pca"
      ]
    },
    {
      "cell_type": "code",
      "execution_count": 30,
      "metadata": {
        "id": "jStl72jJVoF2"
      },
      "outputs": [],
      "source": [
        "X = prepare_dataset(test_data)"
      ]
    },
    {
      "cell_type": "code",
      "execution_count": 7,
      "metadata": {
        "id": "gVO_FdWfcMHf"
      },
      "outputs": [],
      "source": [
        "loaded_tree_model = joblib.load('best_tree_model.joblib')\n",
        "\n",
        "predict = loaded_tree_model.predict_proba(X)\n",
        "predict = predict[:, 1]\n",
        "predict_binary = (predict >= 0.5).astype(int)"
      ]
    },
    {
      "cell_type": "code",
      "execution_count": null,
      "metadata": {
        "id": "t1xPL9YUAIQx"
      },
      "outputs": [],
      "source": [
        "%pip install catboost"
      ]
    },
    {
      "cell_type": "code",
      "execution_count": 16,
      "metadata": {
        "id": "959mZ6h-AFo_"
      },
      "outputs": [],
      "source": [
        "from catboost import CatBoostClassifier"
      ]
    },
    {
      "cell_type": "code",
      "execution_count": 41,
      "metadata": {
        "id": "0lLP2hyb_7gR"
      },
      "outputs": [],
      "source": [
        "from_file = CatBoostClassifier()\n",
        "\n",
        "from_file.load_model(\"best_catboost_model_80_20_new_more_iter\")\n",
        "pred = from_file.predict_proba(X)\n",
        "\n",
        "pred = pred[:, 1]\n",
        "pred_binary = (pred >= 0.1)"
      ]
    },
    {
      "cell_type": "code",
      "execution_count": 42,
      "metadata": {
        "id": "2K-QW14JmEi3"
      },
      "outputs": [],
      "source": [
        "submission = pd.read_csv(\"submission.csv\")"
      ]
    },
    {
      "cell_type": "code",
      "execution_count": 43,
      "metadata": {
        "id": "Tn3HJRZ-oc5D"
      },
      "outputs": [],
      "source": [
        "submission[\"target_prob\"] = pred\n",
        "submission[\"target_bin\"] = pred_binary"
      ]
    },
    {
      "cell_type": "code",
      "execution_count": 45,
      "metadata": {
        "id": "gqwEzGAG8B6r"
      },
      "outputs": [],
      "source": [
        "submission.to_csv(\"catboost.csv\", index=False)"
      ]
    },
    {
      "cell_type": "code",
      "execution_count": 11,
      "metadata": {
        "id": "QQzmXKGp8KRY"
      },
      "outputs": [],
      "source": [
        "#регресионный случайный лес\n",
        "loaded_tree_model = joblib.load('best_tree_model_80_20.joblib')\n",
        "\n",
        "predict = loaded_tree_model.predict(X)\n",
        "predict_binary = (predict >= 0.2).astype(int)"
      ]
    },
    {
      "cell_type": "code",
      "execution_count": 11,
      "metadata": {
        "colab": {
          "base_uri": "https://localhost:8080/"
        },
        "id": "yVoM7taGg664",
        "outputId": "1709bfad-e672-4342-e6c7-4fa4d218c83c"
      },
      "outputs": [
        {
          "name": "stdout",
          "output_type": "stream",
          "text": [
            "[LightGBM] [Warning] Accuracy may be bad since you didn't explicitly set num_leaves OR 2^max_depth > num_leaves. (num_leaves=31).\n"
          ]
        }
      ],
      "source": [
        "lgbm_model = joblib.load('best_lgbm_model')\n",
        "\n",
        "predict = lgbm_model.predict_proba(X)\n",
        "predict = predict[:, 1]\n",
        "predict_binary = (predict >= 0.2).astype(int)"
      ]
    },
    {
      "cell_type": "code",
      "execution_count": 38,
      "metadata": {
        "colab": {
          "base_uri": "https://localhost:8080/"
        },
        "id": "XMYRsmVGcMGT",
        "outputId": "84a07563-4a60-46bf-a99e-3e8db8ad819b"
      },
      "outputs": [
        {
          "name": "stdout",
          "output_type": "stream",
          "text": [
            "5420/5420 [==============================] - 8s 1ms/step\n"
          ]
        }
      ],
      "source": [
        "import tensorflow as tf\n",
        "from tensorflow.keras.models import Sequential\n",
        "from tensorflow.keras.layers import Dense, Dropout\n",
        "from tensorflow.keras.callbacks import EarlyStopping\n",
        "from sklearn.metrics import f1_score\n",
        "#нейронная сеть\n",
        "neuron_model = tf.keras.models.load_model('neuron_model_80_20_new.h5')\n",
        "\n",
        "predict = neuron_model.predict(X)\n",
        "predict_binary = (predict >= 0.4).astype(int)"
      ]
    }
  ],
  "metadata": {
    "colab": {
      "provenance": []
    },
    "kernelspec": {
      "display_name": "Python 3",
      "name": "python3"
    },
    "language_info": {
      "name": "python"
    }
  },
  "nbformat": 4,
  "nbformat_minor": 0
}
