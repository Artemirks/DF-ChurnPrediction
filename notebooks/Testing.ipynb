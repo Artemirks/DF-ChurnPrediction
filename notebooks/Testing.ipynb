{
  "cells": [
    {
      "cell_type": "code",
      "execution_count": null,
      "metadata": {
        "id": "04vlSKZeuQvf"
      },
      "outputs": [],
      "source": [
        "import dask.dataframe as dd\n",
        "import pandas as pd"
      ]
    },
    {
      "cell_type": "code",
      "execution_count": null,
      "metadata": {
        "id": "ojcF55Nmui6w"
      },
      "outputs": [],
      "source": [
        "data = dd.read_parquet('../data/new_selected_data.parquet', engine=\"pyarrow\")"
      ]
    },
    {
      "cell_type": "code",
      "execution_count": null,
      "metadata": {
        "id": "ZoxB1ZlT26BI"
      },
      "outputs": [],
      "source": [
        "data = data.compute()"
      ]
    },
    {
      "cell_type": "code",
      "execution_count": null,
      "metadata": {
        "id": "cVa97tbL68tc"
      },
      "outputs": [],
      "source": [
        "X = data.drop(['target', 'id'], axis=1)\n",
        "y = data['target']"
      ]
    },
    {
      "cell_type": "code",
      "execution_count": null,
      "metadata": {
        "id": "wr4MNxQ67G_M"
      },
      "outputs": [],
      "source": [
        "from sklearn.metrics import roc_auc_score, f1_score, recall_score, precision_score\n",
        "def get_metrics(y_test, y_pred):\n",
        "  roc_auc = roc_auc_score(y_test, y_pred)\n",
        "  f1 = f1_score(y_test, y_pred)\n",
        "  recall = recall_score(y_test, y_pred)\n",
        "  precision = precision_score(y_test, y_pred)\n",
        "\n",
        "  print(f\"ROC AUC: {roc_auc}\")\n",
        "  print(f\"F1 Score: {f1}\")\n",
        "  print(f\"Recall: {recall}\")\n",
        "  print(f\"Precision: {precision}\")"
      ]
    },
    {
      "cell_type": "markdown",
      "metadata": {
        "id": "RVNtX-AP60Ub"
      },
      "source": [
        "## Baseline\n",
        "В качестве baseline будем использовать модель, которая прогнозирует значение 1"
      ]
    },
    {
      "cell_type": "code",
      "execution_count": null,
      "metadata": {
        "colab": {
          "base_uri": "https://localhost:8080/"
        },
        "id": "g0004tfs63Bo",
        "outputId": "21921532-7e0f-4871-a9c1-1a000791df92"
      },
      "outputs": [
        {
          "name": "stdout",
          "output_type": "stream",
          "text": [
            "ROC AUC: 0.49346711363504697\n",
            "F1 Score: 0.0646072458737777\n",
            "Recall: 0.4878886478669559\n",
            "Precision: 0.03459413732552327\n"
          ]
        }
      ],
      "source": [
        "import numpy as np\n",
        "from sklearn.model_selection import train_test_split\n",
        "\n",
        "\n",
        "X_train, X_test, y_train, y_test = train_test_split(X, y, test_size=0.3, random_state=42)\n",
        "\n",
        "baseline_model = np.random.choice([0, 1], size=len(y_test), p=[0.5, 0.5])\n",
        "get_metrics(y_test, baseline_model)"
      ]
    },
    {
      "cell_type": "code",
      "execution_count": null,
      "metadata": {
        "colab": {
          "base_uri": "https://localhost:8080/"
        },
        "id": "-wufDuvo6PzE",
        "outputId": "88496074-0da9-469a-d5f7-8f94ef2cadbe"
      },
      "outputs": [
        {
          "data": {
            "text/plain": [
              "0    501078\n",
              "1     18537\n",
              "Name: target, dtype: int64"
            ]
          },
          "execution_count": 7,
          "metadata": {},
          "output_type": "execute_result"
        }
      ],
      "source": [
        "data['target'].compute().value_counts()"
      ]
    },
    {
      "cell_type": "code",
      "execution_count": null,
      "metadata": {
        "id": "-FP2R8f5f9M-"
      },
      "outputs": [],
      "source": [
        "import numpy as np\n",
        "data = np.load('../data/test_data.npz')\n",
        "X_test, y_test= data['X_test'], data['y_test']"
      ]
    },
    {
      "cell_type": "code",
      "execution_count": null,
      "metadata": {
        "colab": {
          "base_uri": "https://localhost:8080/"
        },
        "id": "9mf9wTB-pZCO",
        "outputId": "61110e66-fa11-4503-cf35-fa16f26d0270"
      },
      "outputs": [
        {
          "name": "stderr",
          "output_type": "stream",
          "text": [
            "/usr/local/lib/python3.10/dist-packages/sklearn/base.py:439: UserWarning: X does not have valid feature names, but StandardScaler was fitted with feature names\n",
            "  warnings.warn(\n"
          ]
        }
      ],
      "source": [
        "import joblib\n",
        "scaler = joblib.load('scaler_80_20.joblib')\n",
        "pca = joblib.load('pca_80_20.joblib')\n",
        "\n",
        "\n",
        "X_test_scaled = scaler.transform(X_test)\n",
        "X_test_pca = pca.transform(X_test_scaled)"
      ]
    },
    {
      "cell_type": "markdown",
      "metadata": {},
      "source": [
        "## Тестирование моделей"
      ]
    },
    {
      "cell_type": "code",
      "execution_count": null,
      "metadata": {
        "colab": {
          "base_uri": "https://localhost:8080/",
          "height": 325
        },
        "id": "xqVE5n-jr0xD",
        "outputId": "0fa989cd-b770-42b4-cf10-fc2e3807365d"
      },
      "outputs": [],
      "source": [
        "loaded_log_model = joblib.load('best_logistic_regression_model_50_50.joblib')\n",
        "\n",
        "predict = loaded_log_model.predict(X_test_pca)\n",
        "get_metrics(y_test, predict)"
      ]
    },
    {
      "cell_type": "code",
      "execution_count": null,
      "metadata": {
        "id": "dMJK0fR0uZpu"
      },
      "outputs": [],
      "source": [
        "#случайный лес: Логистический\n",
        "loaded_tree_model = joblib.load('best_tree_model.joblib')\n",
        "\n",
        "pred = loaded_tree_model.predict_proba(X_test_pca)\n",
        "\n",
        "pred = pred[:, 1]\n",
        "pred_binary = (pred >= 0.1)"
      ]
    },
    {
      "cell_type": "code",
      "execution_count": null,
      "metadata": {
        "colab": {
          "base_uri": "https://localhost:8080/"
        },
        "id": "lrduF2EN6vMW",
        "outputId": "c96cca2e-6a6d-40c0-a73e-a8f7061046d0"
      },
      "outputs": [
        {
          "name": "stdout",
          "output_type": "stream",
          "text": [
            "Best F1 Score: 0.6968242544988091 at threshold 0.5\n",
            "ROC AUC: 0.6968242544988091\n",
            "F1 Score: 0.13868392511068045\n",
            "Recall: 0.7049891540130152\n",
            "Precision: 0.0769063911182978\n"
          ]
        }
      ],
      "source": [
        "best_threshold = 0.5\n",
        "best_f1_score = 0.0\n",
        "\n",
        "for threshold in [0.1, 0.2, 0.3, 0.4, 0.5, 0.6, 0.7, 0.8, 0.9]:\n",
        "    pred_binary = (pred >= threshold)\n",
        "    f1 = roc_auc_score(y_test, pred_binary)\n",
        "    if f1 > best_f1_score:\n",
        "        best_f1_score = f1\n",
        "        best_threshold = threshold\n",
        "\n",
        "print(f\"Best F1 Score: {best_f1_score} at threshold {best_threshold}\")\n",
        "pred_binary = (pred >= best_threshold)\n",
        "get_metrics(y_test, pred_binary)"
      ]
    },
    {
      "cell_type": "code",
      "execution_count": null,
      "metadata": {
        "id": "ukuYe7FjdVLa"
      },
      "outputs": [],
      "source": [
        "#регрессионный лес\n",
        "loaded_tree_model = joblib.load('best_tree_model_80_20.joblib')\n",
        "\n",
        "pred = loaded_tree_model.predict(X_test_pca)"
      ]
    },
    {
      "cell_type": "code",
      "execution_count": null,
      "metadata": {
        "colab": {
          "base_uri": "https://localhost:8080/"
        },
        "id": "v27U7ah8fhP4",
        "outputId": "264ed84d-95c4-452d-856e-0dda7effad16"
      },
      "outputs": [
        {
          "name": "stdout",
          "output_type": "stream",
          "text": [
            "Best F1 Score: 0.6776861781658501 at threshold 0.2\n",
            "ROC AUC: 0.6776861781658501\n",
            "F1 Score: 0.13132388965811057\n",
            "Recall: 0.6686550976138829\n",
            "Precision: 0.07281209401204677\n"
          ]
        }
      ],
      "source": [
        "best_threshold = 0.5\n",
        "best_f1_score = 0.0\n",
        "\n",
        "for threshold in [0.1, 0.2, 0.3, 0.4, 0.5, 0.6, 0.7, 0.8, 0.9]:\n",
        "    pred_binary = (pred >= threshold)\n",
        "    f1 = roc_auc_score(y_test, pred_binary)\n",
        "    if f1 > best_f1_score:\n",
        "        best_f1_score = f1\n",
        "        best_threshold = threshold\n",
        "\n",
        "print(f\"Best F1 Score: {best_f1_score} at threshold {best_threshold}\")\n",
        "pred_binary = (pred >= best_threshold)\n",
        "get_metrics(y_test, pred_binary)"
      ]
    },
    {
      "cell_type": "code",
      "execution_count": null,
      "metadata": {
        "colab": {
          "base_uri": "https://localhost:8080/"
        },
        "id": "2Q6LOWyn-ePE",
        "outputId": "f149f1fe-585c-4245-b1f0-a8b5154b792a"
      },
      "outputs": [
        {
          "name": "stdout",
          "output_type": "stream",
          "text": [
            "Installing collected packages: catboost\n",
            "Successfully installed catboost-1.2.3\n"
          ]
        }
      ],
      "source": [
        "%pip install catboost"
      ]
    },
    {
      "cell_type": "code",
      "execution_count": null,
      "metadata": {
        "id": "HxrLyN3n-dBR"
      },
      "outputs": [],
      "source": [
        "#CatBoost\n",
        "from catboost import CatBoostClassifier"
      ]
    },
    {
      "cell_type": "code",
      "execution_count": null,
      "metadata": {
        "id": "cL5s6e5F-mcV"
      },
      "outputs": [],
      "source": [
        "from_file = CatBoostClassifier()\n",
        "\n",
        "from_file.load_model(\"best_catboost_model_80_20_new\")\n",
        "pred = from_file.predict_proba(X_test_pca)\n",
        "\n",
        "pred = pred[:, 1]\n",
        "pred_binary = (pred >= 0.1)"
      ]
    },
    {
      "cell_type": "code",
      "execution_count": null,
      "metadata": {
        "colab": {
          "base_uri": "https://localhost:8080/"
        },
        "id": "BBRRNv1g-2aE",
        "outputId": "18e90d6d-d888-4e6a-d823-abe8aa9319c4"
      },
      "outputs": [
        {
          "name": "stdout",
          "output_type": "stream",
          "text": [
            "Best F1 Score: 0.705217946150433 at threshold 0.2\n",
            "ROC AUC: 0.705217946150433\n",
            "F1 Score: 0.1456308861802318\n",
            "Recall: 0.703000723065799\n",
            "Precision: 0.08122898260124903\n"
          ]
        }
      ],
      "source": [
        "best_threshold = 0.5\n",
        "best_f1_score = 0.0\n",
        "\n",
        "for threshold in [0.1, 0.2, 0.3, 0.4, 0.5, 0.6, 0.7, 0.8, 0.9]:\n",
        "    pred_binary = (pred >= threshold)\n",
        "    f1 = roc_auc_score(y_test, pred_binary)\n",
        "    if f1 > best_f1_score:\n",
        "        best_f1_score = f1\n",
        "        best_threshold = threshold\n",
        "\n",
        "print(f\"Best F1 Score: {best_f1_score} at threshold {best_threshold}\")\n",
        "pred_binary = (pred >= best_threshold)\n",
        "get_metrics(y_test, pred_binary)"
      ]
    },
    {
      "cell_type": "code",
      "execution_count": null,
      "metadata": {
        "colab": {
          "base_uri": "https://localhost:8080/"
        },
        "id": "k9AyIf-se9o0",
        "outputId": "ce040f2c-b21a-44fc-9ae0-1e21798dbe09"
      },
      "outputs": [
        {
          "name": "stdout",
          "output_type": "stream",
          "text": [
            "4872/4872 [==============================] - 8s 2ms/step\n",
            "ROC AUC: 0.5111151306547577\n",
            "F1 Score: 0.04587304151187207\n",
            "Recall: 0.02566883586406363\n",
            "Precision: 0.21547799696509864\n"
          ]
        }
      ],
      "source": [
        "#Нейросеть\n",
        "import tensorflow as tf\n",
        "from tensorflow.keras.models import Sequential\n",
        "from tensorflow.keras.layers import Dense, Dropout\n",
        "from tensorflow.keras.callbacks import EarlyStopping\n",
        "loaded_model = tf.keras.models.load_model('neuron_model_80_20.h5')\n",
        "\n",
        "\n",
        "y_pred_loaded = loaded_model.predict(X_test_pca)\n",
        "y_pred_binary = (y_pred_loaded > 0.6).astype(int)\n",
        "get_metrics(y_test, y_pred_binary)"
      ]
    },
    {
      "cell_type": "code",
      "execution_count": null,
      "metadata": {
        "colab": {
          "base_uri": "https://localhost:8080/"
        },
        "id": "kQTFgPCBw5l_",
        "outputId": "d8911d34-bd41-45a8-c9a2-b3892e613951"
      },
      "outputs": [
        {
          "name": "stdout",
          "output_type": "stream",
          "text": [
            "ROC AUC: 0.6613933095813724\n",
            "F1 Score: 0.12151420812081871\n",
            "Recall: 0.663232104121475\n",
            "Precision: 0.06688420592095669\n"
          ]
        }
      ],
      "source": [
        "y_pred_binary = (y_pred_loaded > 0.2).astype(int)\n",
        "get_metrics(y_test, y_pred_binary)"
      ]
    },
    {
      "cell_type": "markdown",
      "metadata": {
        "id": "3f5w1mcZ9HaO"
      },
      "source": [
        "В целовой переменной наблюдается сильный дисбаланс классов"
      ]
    },
    {
      "cell_type": "markdown",
      "metadata": {
        "id": "UyxJVf0m-9Wa"
      },
      "source": [
        "## Downsampling"
      ]
    },
    {
      "cell_type": "code",
      "execution_count": null,
      "metadata": {
        "colab": {
          "base_uri": "https://localhost:8080/",
          "height": 307
        },
        "id": "mwR7J6WXz6x6",
        "outputId": "adaa7b8a-de2c-4340-9791-e1054ba47e1c"
      },
      "outputs": [],
      "source": [
        "from sklearn.utils import resample\n",
        "class_0 = data[data['target'] == 0]\n",
        "class_1 = data[data['target'] == 1]"
      ]
    },
    {
      "cell_type": "code",
      "execution_count": null,
      "metadata": {
        "id": "dKP_tGeb_A9K"
      },
      "outputs": [],
      "source": [
        "#одинаковое распределение - 50/50\n",
        "class_0_downsampled = resample(class_0, replace=False, n_samples=len(class_1), random_state=42)\n",
        "\n",
        "balanced_data = pd.concat([class_0_downsampled, class_1])\n",
        "\n",
        "balanced_data = balanced_data.sample(frac=1, random_state=42)"
      ]
    },
    {
      "cell_type": "code",
      "execution_count": null,
      "metadata": {
        "colab": {
          "base_uri": "https://localhost:8080/"
        },
        "id": "GlP8jMca_p1K",
        "outputId": "6d68fe51-b6d2-4ca3-b3c7-1e7442f21565"
      },
      "outputs": [
        {
          "data": {
            "text/plain": [
              "(37074, 707)"
            ]
          },
          "execution_count": 6,
          "metadata": {},
          "output_type": "execute_result"
        }
      ],
      "source": [
        "balanced_data.shape"
      ]
    },
    {
      "cell_type": "code",
      "execution_count": null,
      "metadata": {
        "id": "byuqs8PsAHpZ"
      },
      "outputs": [],
      "source": [
        "balanced_data.to_parquet('balanced_data.parquet', engine='pyarrow')"
      ]
    },
    {
      "cell_type": "markdown",
      "metadata": {
        "id": "LRATGcTzyr7h"
      },
      "source": [
        "## Изначальное распределение\n",
        "Уменьшим размер выборки до 40000 строк с распределением целевой переменной 96/4\n",
        "\n"
      ]
    },
    {
      "cell_type": "code",
      "execution_count": null,
      "metadata": {
        "id": "xg7o0R7ky6Iq"
      },
      "outputs": [],
      "source": [
        "target_ratio = 0.04\n",
        "class_0_downsampled_2 = resample(class_0, replace=False, n_samples=int(40000 * (1 - target_ratio)), random_state=42)\n",
        "class_1_downsampled_2 = resample(class_1, replace=False, n_samples=int(40000 * target_ratio), random_state=42)\n",
        "\n",
        "balanced_data_2 = pd.concat([class_0_downsampled_2, class_1_downsampled_2])\n",
        "balanced_data_2 = balanced_data_2.sample(frac=1, random_state=42)"
      ]
    },
    {
      "cell_type": "code",
      "execution_count": null,
      "metadata": {
        "colab": {
          "base_uri": "https://localhost:8080/"
        },
        "id": "pZtBVNQl0d-2",
        "outputId": "7faecb6b-a9cc-4d3a-b79e-191c634ee8e7"
      },
      "outputs": [
        {
          "data": {
            "text/plain": [
              "0    0.96\n",
              "1    0.04\n",
              "Name: target, dtype: float64"
            ]
          },
          "execution_count": 7,
          "metadata": {},
          "output_type": "execute_result"
        }
      ],
      "source": [
        "balanced_data_2['target'].value_counts(1)"
      ]
    },
    {
      "cell_type": "code",
      "execution_count": null,
      "metadata": {
        "id": "a72O6TzL0m1Y"
      },
      "outputs": [],
      "source": [
        "balanced_data_2.to_parquet('balanced_data_96_4.parquet', engine='pyarrow')"
      ]
    },
    {
      "cell_type": "markdown",
      "metadata": {
        "id": "1pUSECB00KTy"
      },
      "source": [
        "## Выборка с распределением 65/35"
      ]
    },
    {
      "cell_type": "code",
      "execution_count": null,
      "metadata": {
        "id": "58P2cM5py6GG"
      },
      "outputs": [],
      "source": [
        "target_ratio = 0.35\n",
        "class_0_downsampled_3 = resample(class_0, replace=False, n_samples=int(40000 * (1 - target_ratio)), random_state=42)\n",
        "class_1_downsampled_3 = resample(class_1, replace=False, n_samples=int(40000 * target_ratio), random_state=42)\n",
        "\n",
        "balanced_data_3 = pd.concat([class_0_downsampled_3, class_1_downsampled_3])\n",
        "balanced_data_3 = balanced_data_3.sample(frac=1, random_state=42)"
      ]
    },
    {
      "cell_type": "code",
      "execution_count": null,
      "metadata": {
        "colab": {
          "base_uri": "https://localhost:8080/"
        },
        "id": "r5F7OfKc07jS",
        "outputId": "417d3482-99ec-4c71-e334-1e9962ce20c7"
      },
      "outputs": [
        {
          "data": {
            "text/plain": [
              "0    0.65\n",
              "1    0.35\n",
              "Name: target, dtype: float64"
            ]
          },
          "execution_count": 10,
          "metadata": {},
          "output_type": "execute_result"
        }
      ],
      "source": [
        "balanced_data_3['target'].value_counts(1)"
      ]
    },
    {
      "cell_type": "code",
      "execution_count": null,
      "metadata": {
        "id": "ceFsk7aE1BrT"
      },
      "outputs": [],
      "source": [
        "balanced_data_3.to_parquet('balanced_data_65_35.parquet', engine='pyarrow')"
      ]
    },
    {
      "cell_type": "markdown",
      "metadata": {
        "id": "Z2i7zfZDS4KV"
      },
      "source": [
        "Выборка с распределением 80/20. Значения с единицой убирать не будем"
      ]
    },
    {
      "cell_type": "code",
      "execution_count": null,
      "metadata": {
        "id": "mmcHeihES_tY"
      },
      "outputs": [],
      "source": [
        "target_ratio = 0.2\n",
        "class_0_downsampled_4 = resample(class_0, replace=False, n_samples=int(92685 * (1 - target_ratio)), random_state=42)\n",
        "class_1_downsampled_4 = resample(class_1, replace=False, n_samples=int(92685 * target_ratio), random_state=42)\n",
        "\n",
        "balanced_data_4 = pd.concat([class_0_downsampled_4, class_1_downsampled_4])\n",
        "balanced_data_4 = balanced_data_4.sample(frac=1, random_state=42)"
      ]
    },
    {
      "cell_type": "code",
      "execution_count": null,
      "metadata": {
        "colab": {
          "base_uri": "https://localhost:8080/"
        },
        "id": "utbDCv7zTt6H",
        "outputId": "ddec1188-8e60-4fce-d7a9-b4a1eac4c2ae"
      },
      "outputs": [
        {
          "data": {
            "text/plain": [
              "0    74148\n",
              "1    18537\n",
              "Name: target, dtype: int64"
            ]
          },
          "execution_count": 11,
          "metadata": {},
          "output_type": "execute_result"
        }
      ],
      "source": [
        "balanced_data_4['target'].value_counts()"
      ]
    },
    {
      "cell_type": "code",
      "execution_count": null,
      "metadata": {
        "id": "RVxXI-xaTpGD"
      },
      "outputs": [],
      "source": [
        "balanced_data_4.to_parquet('balanced_data_80_20.parquet', engine='pyarrow')"
      ]
    },
    {
      "cell_type": "markdown",
      "metadata": {
        "id": "8DURkEc7S2gL"
      },
      "source": []
    },
    {
      "cell_type": "markdown",
      "metadata": {
        "id": "vBEdWVG6wR_5"
      },
      "source": [
        "Пробуем еще уменьшить количество колонок на датасете 80/20"
      ]
    },
    {
      "cell_type": "code",
      "execution_count": null,
      "metadata": {
        "id": "thTawdCe1Gfk"
      },
      "outputs": [],
      "source": [
        "balanced_data_80_20 = pd.read_parquet('/content/drive/MyDrive/DF-ChurnPrediction/data/balanced_data_80_20.parquet')"
      ]
    },
    {
      "cell_type": "code",
      "execution_count": null,
      "metadata": {
        "id": "Z0ciUs1cw8qV"
      },
      "outputs": [],
      "source": [
        "corr_with_target = balanced_data_80_20.corrwith(balanced_data_80_20['target']).abs()\n",
        "\n",
        "threshold = 0.02\n",
        "\n",
        "low_corr_features = corr_with_target[corr_with_target < threshold].index"
      ]
    },
    {
      "cell_type": "code",
      "execution_count": null,
      "metadata": {
        "colab": {
          "base_uri": "https://localhost:8080/"
        },
        "id": "CuM8Dfkk1KH2",
        "outputId": "3b4bb961-f2bb-4aff-a21d-f35ee5c050c2"
      },
      "outputs": [
        {
          "data": {
            "text/plain": [
              "feature436    0.000092\n",
              "feature441    0.000117\n",
              "id            0.000170\n",
              "feature40     0.000275\n",
              "feature866    0.000523\n",
              "                ...   \n",
              "feature943    0.179502\n",
              "feature953    0.195863\n",
              "feature944    0.198325\n",
              "feature954    0.210768\n",
              "target        1.000000\n",
              "Length: 707, dtype: float64"
            ]
          },
          "execution_count": 43,
          "metadata": {},
          "output_type": "execute_result"
        }
      ],
      "source": [
        "corr_with_target.sort_values()"
      ]
    },
    {
      "cell_type": "code",
      "execution_count": null,
      "metadata": {
        "colab": {
          "base_uri": "https://localhost:8080/"
        },
        "id": "r5Uq3UWx0RYe",
        "outputId": "97316876-a841-43ea-ef8f-6114596c046d"
      },
      "outputs": [
        {
          "name": "stdout",
          "output_type": "stream",
          "text": [
            "['id', 'feature2', 'feature37', 'feature38', 'feature39', 'feature40', 'feature45', 'feature49', 'feature53', 'feature58', 'feature59', 'feature71', 'feature75', 'feature76', 'feature78', 'feature84', 'feature86', 'feature95', 'feature99', 'feature106', 'feature110', 'feature111', 'feature112', 'feature113', 'feature115', 'feature116', 'feature125', 'feature127', 'feature133', 'feature137', 'feature139', 'feature143', 'feature145', 'feature147', 'feature152', 'feature153', 'feature155', 'feature161', 'feature162', 'feature163', 'feature164', 'feature166', 'feature167', 'feature169', 'feature170', 'feature171', 'feature173', 'feature174', 'feature175', 'feature176', 'feature194', 'feature195', 'feature199', 'feature200', 'feature218', 'feature219', 'feature220', 'feature221', 'feature222', 'feature223', 'feature260', 'feature268', 'feature275', 'feature286', 'feature288', 'feature290', 'feature303', 'feature304', 'feature305', 'feature336', 'feature342', 'feature345', 'feature346', 'feature352', 'feature353', 'feature369', 'feature401', 'feature409', 'feature414', 'feature422', 'feature424', 'feature429', 'feature432', 'feature433', 'feature434', 'feature435', 'feature436', 'feature441', 'feature457', 'feature458', 'feature460', 'feature461', 'feature463', 'feature464', 'feature465', 'feature467', 'feature473', 'feature476', 'feature477', 'feature488', 'feature489', 'feature494', 'feature506', 'feature512', 'feature514', 'feature515', 'feature519', 'feature520', 'feature522', 'feature528', 'feature529', 'feature530', 'feature531', 'feature534', 'feature540', 'feature548', 'feature552', 'feature559', 'feature560', 'feature569', 'feature576', 'feature577', 'feature624', 'feature648', 'feature651', 'feature657', 'feature666', 'feature677', 'feature698', 'feature726', 'feature749', 'feature753', 'feature757', 'feature759', 'feature760', 'feature776', 'feature778', 'feature787', 'feature792', 'feature793', 'feature800', 'feature811', 'feature813', 'feature814', 'feature815', 'feature820', 'feature829', 'feature830', 'feature831', 'feature832', 'feature846', 'feature856', 'feature866', 'feature867', 'feature897', 'feature913', 'feature914', 'feature915', 'feature920', 'feature921', 'feature922', 'feature923', 'feature924', 'feature925', 'feature926', 'feature927', 'feature928', 'feature937', 'feature938', 'feature945', 'feature946', 'feature947', 'feature985', 'feature1035', 'feature1038', 'feature1039', 'feature1040', 'feature1041', 'feature1042', 'feature1057']\n"
          ]
        }
      ],
      "source": [
        "print(list(low_corr_features))\n"
      ]
    },
    {
      "cell_type": "code",
      "execution_count": null,
      "metadata": {
        "id": "bjdZc03ryJhv"
      },
      "outputs": [],
      "source": [
        "balanced_data_80_20 = balanced_data_80_20.drop(low_corr_features, axis=1)"
      ]
    },
    {
      "cell_type": "code",
      "execution_count": null,
      "metadata": {
        "colab": {
          "base_uri": "https://localhost:8080/",
          "height": 423
        },
        "id": "JttASMHhyheM",
        "outputId": "95e7331c-bdf2-48d8-f9a7-86a3524fd6fa"
      },
      "outputs": [
        {
          "data": {
            "application/vnd.google.colaboratory.intrinsic+json": {
              "summary": "{\n  \"name\": \"sorted_percentage_df\",\n  \"rows\": 527,\n  \"fields\": [\n    {\n      \"column\": \"top_value_percentage\",\n      \"properties\": {\n        \"dtype\": \"number\",\n        \"std\": 30.360356959786852,\n        \"min\": 0.01942061822301343,\n        \"max\": 95.82240923558288,\n        \"num_unique_values\": 362,\n        \"samples\": [\n          56.16766467065868,\n          89.80093866321411,\n          94.15655176134217\n        ],\n        \"semantic_type\": \"\",\n        \"description\": \"\"\n      }\n    }\n  ]\n}",
              "type": "dataframe",
              "variable_name": "sorted_percentage_df"
            },
            "text/html": [
              "\n",
              "  <div id=\"df-2ba8f8dc-ddb6-479e-ae40-639e46b6e6a5\" class=\"colab-df-container\">\n",
              "    <div>\n",
              "<style scoped>\n",
              "    .dataframe tbody tr th:only-of-type {\n",
              "        vertical-align: middle;\n",
              "    }\n",
              "\n",
              "    .dataframe tbody tr th {\n",
              "        vertical-align: top;\n",
              "    }\n",
              "\n",
              "    .dataframe thead th {\n",
              "        text-align: right;\n",
              "    }\n",
              "</style>\n",
              "<table border=\"1\" class=\"dataframe\">\n",
              "  <thead>\n",
              "    <tr style=\"text-align: right;\">\n",
              "      <th></th>\n",
              "      <th>top_value_percentage</th>\n",
              "    </tr>\n",
              "  </thead>\n",
              "  <tbody>\n",
              "    <tr>\n",
              "      <th>feature48</th>\n",
              "      <td>95.822409</td>\n",
              "    </tr>\n",
              "    <tr>\n",
              "      <th>feature372</th>\n",
              "      <td>95.822409</td>\n",
              "    </tr>\n",
              "    <tr>\n",
              "      <th>feature412</th>\n",
              "      <td>95.618493</td>\n",
              "    </tr>\n",
              "    <tr>\n",
              "      <th>feature74</th>\n",
              "      <td>95.618493</td>\n",
              "    </tr>\n",
              "    <tr>\n",
              "      <th>feature805</th>\n",
              "      <td>95.612019</td>\n",
              "    </tr>\n",
              "    <tr>\n",
              "      <th>...</th>\n",
              "      <td>...</td>\n",
              "    </tr>\n",
              "    <tr>\n",
              "      <th>feature190</th>\n",
              "      <td>0.026973</td>\n",
              "    </tr>\n",
              "    <tr>\n",
              "      <th>feature191</th>\n",
              "      <td>0.026973</td>\n",
              "    </tr>\n",
              "    <tr>\n",
              "      <th>feature226</th>\n",
              "      <td>0.024815</td>\n",
              "    </tr>\n",
              "    <tr>\n",
              "      <th>feature319</th>\n",
              "      <td>0.023736</td>\n",
              "    </tr>\n",
              "    <tr>\n",
              "      <th>feature954</th>\n",
              "      <td>0.019421</td>\n",
              "    </tr>\n",
              "  </tbody>\n",
              "</table>\n",
              "<p>527 rows × 1 columns</p>\n",
              "</div>\n",
              "    <div class=\"colab-df-buttons\">\n",
              "\n",
              "  <div class=\"colab-df-container\">\n",
              "    <button class=\"colab-df-convert\" onclick=\"convertToInteractive('df-2ba8f8dc-ddb6-479e-ae40-639e46b6e6a5')\"\n",
              "            title=\"Convert this dataframe to an interactive table.\"\n",
              "            style=\"display:none;\">\n",
              "\n",
              "  <svg xmlns=\"http://www.w3.org/2000/svg\" height=\"24px\" viewBox=\"0 -960 960 960\">\n",
              "    <path d=\"M120-120v-720h720v720H120Zm60-500h600v-160H180v160Zm220 220h160v-160H400v160Zm0 220h160v-160H400v160ZM180-400h160v-160H180v160Zm440 0h160v-160H620v160ZM180-180h160v-160H180v160Zm440 0h160v-160H620v160Z\"/>\n",
              "  </svg>\n",
              "    </button>\n",
              "\n",
              "  <style>\n",
              "    .colab-df-container {\n",
              "      display:flex;\n",
              "      gap: 12px;\n",
              "    }\n",
              "\n",
              "    .colab-df-convert {\n",
              "      background-color: #E8F0FE;\n",
              "      border: none;\n",
              "      border-radius: 50%;\n",
              "      cursor: pointer;\n",
              "      display: none;\n",
              "      fill: #1967D2;\n",
              "      height: 32px;\n",
              "      padding: 0 0 0 0;\n",
              "      width: 32px;\n",
              "    }\n",
              "\n",
              "    .colab-df-convert:hover {\n",
              "      background-color: #E2EBFA;\n",
              "      box-shadow: 0px 1px 2px rgba(60, 64, 67, 0.3), 0px 1px 3px 1px rgba(60, 64, 67, 0.15);\n",
              "      fill: #174EA6;\n",
              "    }\n",
              "\n",
              "    .colab-df-buttons div {\n",
              "      margin-bottom: 4px;\n",
              "    }\n",
              "\n",
              "    [theme=dark] .colab-df-convert {\n",
              "      background-color: #3B4455;\n",
              "      fill: #D2E3FC;\n",
              "    }\n",
              "\n",
              "    [theme=dark] .colab-df-convert:hover {\n",
              "      background-color: #434B5C;\n",
              "      box-shadow: 0px 1px 3px 1px rgba(0, 0, 0, 0.15);\n",
              "      filter: drop-shadow(0px 1px 2px rgba(0, 0, 0, 0.3));\n",
              "      fill: #FFFFFF;\n",
              "    }\n",
              "  </style>\n",
              "\n",
              "    <script>\n",
              "      const buttonEl =\n",
              "        document.querySelector('#df-2ba8f8dc-ddb6-479e-ae40-639e46b6e6a5 button.colab-df-convert');\n",
              "      buttonEl.style.display =\n",
              "        google.colab.kernel.accessAllowed ? 'block' : 'none';\n",
              "\n",
              "      async function convertToInteractive(key) {\n",
              "        const element = document.querySelector('#df-2ba8f8dc-ddb6-479e-ae40-639e46b6e6a5');\n",
              "        const dataTable =\n",
              "          await google.colab.kernel.invokeFunction('convertToInteractive',\n",
              "                                                    [key], {});\n",
              "        if (!dataTable) return;\n",
              "\n",
              "        const docLinkHtml = 'Like what you see? Visit the ' +\n",
              "          '<a target=\"_blank\" href=https://colab.research.google.com/notebooks/data_table.ipynb>data table notebook</a>'\n",
              "          + ' to learn more about interactive tables.';\n",
              "        element.innerHTML = '';\n",
              "        dataTable['output_type'] = 'display_data';\n",
              "        await google.colab.output.renderOutput(dataTable, element);\n",
              "        const docLink = document.createElement('div');\n",
              "        docLink.innerHTML = docLinkHtml;\n",
              "        element.appendChild(docLink);\n",
              "      }\n",
              "    </script>\n",
              "  </div>\n",
              "\n",
              "\n",
              "<div id=\"df-b70e6d89-a2d4-45e7-8aa9-601da09b8f14\">\n",
              "  <button class=\"colab-df-quickchart\" onclick=\"quickchart('df-b70e6d89-a2d4-45e7-8aa9-601da09b8f14')\"\n",
              "            title=\"Suggest charts\"\n",
              "            style=\"display:none;\">\n",
              "\n",
              "<svg xmlns=\"http://www.w3.org/2000/svg\" height=\"24px\"viewBox=\"0 0 24 24\"\n",
              "     width=\"24px\">\n",
              "    <g>\n",
              "        <path d=\"M19 3H5c-1.1 0-2 .9-2 2v14c0 1.1.9 2 2 2h14c1.1 0 2-.9 2-2V5c0-1.1-.9-2-2-2zM9 17H7v-7h2v7zm4 0h-2V7h2v10zm4 0h-2v-4h2v4z\"/>\n",
              "    </g>\n",
              "</svg>\n",
              "  </button>\n",
              "\n",
              "<style>\n",
              "  .colab-df-quickchart {\n",
              "      --bg-color: #E8F0FE;\n",
              "      --fill-color: #1967D2;\n",
              "      --hover-bg-color: #E2EBFA;\n",
              "      --hover-fill-color: #174EA6;\n",
              "      --disabled-fill-color: #AAA;\n",
              "      --disabled-bg-color: #DDD;\n",
              "  }\n",
              "\n",
              "  [theme=dark] .colab-df-quickchart {\n",
              "      --bg-color: #3B4455;\n",
              "      --fill-color: #D2E3FC;\n",
              "      --hover-bg-color: #434B5C;\n",
              "      --hover-fill-color: #FFFFFF;\n",
              "      --disabled-bg-color: #3B4455;\n",
              "      --disabled-fill-color: #666;\n",
              "  }\n",
              "\n",
              "  .colab-df-quickchart {\n",
              "    background-color: var(--bg-color);\n",
              "    border: none;\n",
              "    border-radius: 50%;\n",
              "    cursor: pointer;\n",
              "    display: none;\n",
              "    fill: var(--fill-color);\n",
              "    height: 32px;\n",
              "    padding: 0;\n",
              "    width: 32px;\n",
              "  }\n",
              "\n",
              "  .colab-df-quickchart:hover {\n",
              "    background-color: var(--hover-bg-color);\n",
              "    box-shadow: 0 1px 2px rgba(60, 64, 67, 0.3), 0 1px 3px 1px rgba(60, 64, 67, 0.15);\n",
              "    fill: var(--button-hover-fill-color);\n",
              "  }\n",
              "\n",
              "  .colab-df-quickchart-complete:disabled,\n",
              "  .colab-df-quickchart-complete:disabled:hover {\n",
              "    background-color: var(--disabled-bg-color);\n",
              "    fill: var(--disabled-fill-color);\n",
              "    box-shadow: none;\n",
              "  }\n",
              "\n",
              "  .colab-df-spinner {\n",
              "    border: 2px solid var(--fill-color);\n",
              "    border-color: transparent;\n",
              "    border-bottom-color: var(--fill-color);\n",
              "    animation:\n",
              "      spin 1s steps(1) infinite;\n",
              "  }\n",
              "\n",
              "  @keyframes spin {\n",
              "    0% {\n",
              "      border-color: transparent;\n",
              "      border-bottom-color: var(--fill-color);\n",
              "      border-left-color: var(--fill-color);\n",
              "    }\n",
              "    20% {\n",
              "      border-color: transparent;\n",
              "      border-left-color: var(--fill-color);\n",
              "      border-top-color: var(--fill-color);\n",
              "    }\n",
              "    30% {\n",
              "      border-color: transparent;\n",
              "      border-left-color: var(--fill-color);\n",
              "      border-top-color: var(--fill-color);\n",
              "      border-right-color: var(--fill-color);\n",
              "    }\n",
              "    40% {\n",
              "      border-color: transparent;\n",
              "      border-right-color: var(--fill-color);\n",
              "      border-top-color: var(--fill-color);\n",
              "    }\n",
              "    60% {\n",
              "      border-color: transparent;\n",
              "      border-right-color: var(--fill-color);\n",
              "    }\n",
              "    80% {\n",
              "      border-color: transparent;\n",
              "      border-right-color: var(--fill-color);\n",
              "      border-bottom-color: var(--fill-color);\n",
              "    }\n",
              "    90% {\n",
              "      border-color: transparent;\n",
              "      border-bottom-color: var(--fill-color);\n",
              "    }\n",
              "  }\n",
              "</style>\n",
              "\n",
              "  <script>\n",
              "    async function quickchart(key) {\n",
              "      const quickchartButtonEl =\n",
              "        document.querySelector('#' + key + ' button');\n",
              "      quickchartButtonEl.disabled = true;  // To prevent multiple clicks.\n",
              "      quickchartButtonEl.classList.add('colab-df-spinner');\n",
              "      try {\n",
              "        const charts = await google.colab.kernel.invokeFunction(\n",
              "            'suggestCharts', [key], {});\n",
              "      } catch (error) {\n",
              "        console.error('Error during call to suggestCharts:', error);\n",
              "      }\n",
              "      quickchartButtonEl.classList.remove('colab-df-spinner');\n",
              "      quickchartButtonEl.classList.add('colab-df-quickchart-complete');\n",
              "    }\n",
              "    (() => {\n",
              "      let quickchartButtonEl =\n",
              "        document.querySelector('#df-b70e6d89-a2d4-45e7-8aa9-601da09b8f14 button');\n",
              "      quickchartButtonEl.style.display =\n",
              "        google.colab.kernel.accessAllowed ? 'block' : 'none';\n",
              "    })();\n",
              "  </script>\n",
              "</div>\n",
              "    </div>\n",
              "  </div>\n"
            ],
            "text/plain": [
              "            top_value_percentage\n",
              "feature48              95.822409\n",
              "feature372             95.822409\n",
              "feature412             95.618493\n",
              "feature74              95.618493\n",
              "feature805             95.612019\n",
              "...                          ...\n",
              "feature190              0.026973\n",
              "feature191              0.026973\n",
              "feature226              0.024815\n",
              "feature319              0.023736\n",
              "feature954              0.019421\n",
              "\n",
              "[527 rows x 1 columns]"
            ]
          },
          "execution_count": 29,
          "metadata": {},
          "output_type": "execute_result"
        }
      ],
      "source": [
        "percentage_df = pd.DataFrame({\n",
        "    'top_value_percentage': balanced_data_80_20.apply(lambda col: col.value_counts(normalize=True).max() * 100)\n",
        "})\n",
        "\n",
        "sorted_percentage_df = percentage_df.sort_values(by='top_value_percentage', ascending=False)\n",
        "sorted_percentage_df"
      ]
    },
    {
      "cell_type": "code",
      "execution_count": null,
      "metadata": {
        "colab": {
          "base_uri": "https://localhost:8080/"
        },
        "id": "fPe2YtV9yjWs",
        "outputId": "ac25b5ab-0345-481e-d617-f49dcb210636"
      },
      "outputs": [
        {
          "data": {
            "text/plain": [
              "685298    23\n",
              "0         17\n",
              "90113      3\n",
              "340594     2\n",
              "286777     2\n",
              "          ..\n",
              "654944     1\n",
              "157187     1\n",
              "171643     1\n",
              "462722     1\n",
              "467556     1\n",
              "Name: feature226, Length: 92502, dtype: int64"
            ]
          },
          "execution_count": 34,
          "metadata": {},
          "output_type": "execute_result"
        }
      ],
      "source": [
        "balanced_data_80_20['feature226'].value_counts()"
      ]
    },
    {
      "cell_type": "code",
      "execution_count": null,
      "metadata": {
        "id": "MJIxk2bNzMT6"
      },
      "outputs": [],
      "source": [
        "maybe_to_delete_a_lot_percentage = sorted_percentage_df[sorted_percentage_df['top_value_percentage'] > 80]"
      ]
    },
    {
      "cell_type": "code",
      "execution_count": null,
      "metadata": {
        "id": "-YmJn6Lh0C0H"
      },
      "outputs": [],
      "source": [
        "correlation_cols = maybe_to_delete_a_lot_percentage.index.tolist() + ['target']\n",
        "\n",
        "correlation_a_lot_target = balanced_data_80_20[correlation_cols]"
      ]
    },
    {
      "cell_type": "code",
      "execution_count": null,
      "metadata": {
        "id": "brmyCyji0Es7"
      },
      "outputs": [],
      "source": [
        "corr_with_target_a_lot = correlation_a_lot_target.corrwith(correlation_a_lot_target['target']).abs()"
      ]
    },
    {
      "cell_type": "code",
      "execution_count": null,
      "metadata": {
        "id": "4joVVVK22E2o"
      },
      "outputs": [],
      "source": [
        "selected_columns = corr_with_target_a_lot[corr_with_target_a_lot < 0.05].index.tolist()"
      ]
    },
    {
      "cell_type": "code",
      "execution_count": null,
      "metadata": {
        "colab": {
          "base_uri": "https://localhost:8080/"
        },
        "id": "hMuM0gNK24j_",
        "outputId": "150de42d-763b-42a5-b55c-5b4fba114b41"
      },
      "outputs": [
        {
          "name": "stdout",
          "output_type": "stream",
          "text": [
            "['feature48', 'feature372', 'feature412', 'feature74', 'feature805', 'feature716', 'feature718', 'feature717', 'feature728', 'feature848', 'feature337', 'feature767', 'feature294', 'feature741', 'feature932', 'feature417', 'feature79', 'feature382', 'feature828', 'feature331', 'feature706', 'feature557', 'feature204', 'feature44', 'feature416', 'feature373', 'feature1045', 'feature1046', 'feature1047', 'feature1048', 'feature413', 'feature878', 'feature383', 'feature544', 'feature732', 'feature888', 'feature335', 'feature840', 'feature703', 'feature339', 'feature852', 'feature52', 'feature376', 'feature384', 'feature788', 'feature659', 'feature456', 'feature935', 'feature400', 'feature758', 'feature755', 'feature838', 'feature334', 'feature291', 'feature764', 'feature1036', 'feature687', 'feature538', 'feature995', 'feature308', 'feature781', 'feature377', 'feature1063', 'feature1070', 'feature693', 'feature1064', 'feature1071', 'feature1056', 'feature1065', 'feature1072', 'feature415', 'feature77', 'feature850', 'feature338', 'feature184', 'feature688', 'feature652', 'feature158', 'feature510', 'feature117', 'feature462', 'feature1062', 'feature1061', 'feature1060', 'feature1059', 'feature366', 'feature1073', 'feature1066', 'feature411', 'feature73', 'feature484', 'feature132']\n"
          ]
        }
      ],
      "source": [
        "print(selected_columns)"
      ]
    },
    {
      "cell_type": "code",
      "execution_count": null,
      "metadata": {
        "id": "LjW1Edd6282n"
      },
      "outputs": [],
      "source": [
        "balanced_data_80_20 = balanced_data_80_20.drop(selected_columns, axis=1)"
      ]
    },
    {
      "cell_type": "code",
      "execution_count": null,
      "metadata": {
        "id": "RTJlJhRr3L3l"
      },
      "outputs": [],
      "source": [
        "maybe_to_delete_a_small_percentage = sorted_percentage_df[sorted_percentage_df['top_value_percentage'] < 1]"
      ]
    },
    {
      "cell_type": "code",
      "execution_count": null,
      "metadata": {
        "id": "1S9gQlKQ3crA"
      },
      "outputs": [],
      "source": [
        "correlation_cols = maybe_to_delete_a_small_percentage.index.tolist() + ['target']\n",
        "\n",
        "correlation_a_small_target = balanced_data_80_20[correlation_cols]"
      ]
    },
    {
      "cell_type": "code",
      "execution_count": null,
      "metadata": {
        "id": "Sa2PaEgW3eIT"
      },
      "outputs": [],
      "source": [
        "corr_with_target_a_small = correlation_a_small_target.corrwith(correlation_a_small_target['target']).abs()"
      ]
    },
    {
      "cell_type": "code",
      "execution_count": null,
      "metadata": {
        "colab": {
          "base_uri": "https://localhost:8080/"
        },
        "id": "zxfY6j4e32Qi",
        "outputId": "10d380d1-c7f6-4e91-b919-a3ed4e36c9c4"
      },
      "outputs": [
        {
          "data": {
            "text/plain": [
              "feature187    0.114151\n",
              "feature942    0.157084\n",
              "feature212    0.172941\n",
              "feature213    0.172941\n",
              "feature188    0.112885\n",
              "feature314    0.112885\n",
              "feature943    0.179502\n",
              "feature863    0.049529\n",
              "feature853    0.049728\n",
              "feature351    0.049930\n",
              "feature930    0.152475\n",
              "feature944    0.198325\n",
              "feature323    0.026437\n",
              "feature322    0.026437\n",
              "feature911    0.026465\n",
              "feature136    0.077248\n",
              "feature121    0.073552\n",
              "feature572    0.027317\n",
              "feature142    0.079053\n",
              "feature126    0.075525\n",
              "feature533    0.028919\n",
              "feature181    0.095068\n",
              "feature898    0.050520\n",
              "feature896    0.144755\n",
              "feature909    0.145540\n",
              "feature320    0.145590\n",
              "feature532    0.075164\n",
              "feature952    0.179395\n",
              "feature951    0.166667\n",
              "feature207    0.081787\n",
              "feature206    0.081894\n",
              "feature4      0.154964\n",
              "feature934    0.140450\n",
              "feature953    0.195863\n",
              "feature201    0.079977\n",
              "feature189    0.135147\n",
              "feature190    0.143867\n",
              "feature191    0.145038\n",
              "feature226    0.111392\n",
              "feature319    0.132404\n",
              "feature954    0.210768\n",
              "target        1.000000\n",
              "dtype: float64"
            ]
          },
          "execution_count": 67,
          "metadata": {},
          "output_type": "execute_result"
        }
      ],
      "source": [
        "corr_with_target_a_small"
      ]
    },
    {
      "cell_type": "code",
      "execution_count": null,
      "metadata": {
        "id": "AHsstPa2330y"
      },
      "outputs": [],
      "source": [
        "selected_columns = corr_with_target_a_small[corr_with_target_a_small < 0.05].index.tolist()"
      ]
    },
    {
      "cell_type": "code",
      "execution_count": null,
      "metadata": {
        "colab": {
          "base_uri": "https://localhost:8080/"
        },
        "id": "dL-ZkkoO3-xn",
        "outputId": "9b5e55c9-7048-49b5-de14-76aceb5e2575"
      },
      "outputs": [
        {
          "name": "stdout",
          "output_type": "stream",
          "text": [
            "['feature863', 'feature853', 'feature351', 'feature323', 'feature322', 'feature911', 'feature572', 'feature533']\n"
          ]
        }
      ],
      "source": [
        "print(selected_columns)"
      ]
    },
    {
      "cell_type": "code",
      "execution_count": null,
      "metadata": {
        "id": "YuLTNTy94BPn"
      },
      "outputs": [],
      "source": [
        "balanced_data_80_20 = balanced_data_80_20.drop(selected_columns, axis=1)"
      ]
    },
    {
      "cell_type": "markdown",
      "metadata": {},
      "source": [
        "## Удаление высококоррелярных признаков"
      ]
    },
    {
      "cell_type": "code",
      "execution_count": null,
      "metadata": {
        "id": "IcJfVxYh4Tn1"
      },
      "outputs": [],
      "source": [
        "corr_matrix = balanced_data_80_20.corr().abs()"
      ]
    },
    {
      "cell_type": "code",
      "execution_count": null,
      "metadata": {
        "id": "0SzXxvNo4jwz"
      },
      "outputs": [],
      "source": [
        "# порог корреляции\n",
        "threshold = 0.8\n",
        "\n",
        "# Пары признаков с корреляцией выше порога\n",
        "high_corr_pairs = [(i, j) for i in range(corr_matrix.shape[0]) for j in range(i + 1, corr_matrix.shape[1]) if abs(corr_matrix.iloc[i, j]) > threshold]\n",
        "\n",
        "columns_to_drop = set()"
      ]
    },
    {
      "cell_type": "code",
      "execution_count": null,
      "metadata": {
        "id": "yzqARo_3_1ou"
      },
      "outputs": [],
      "source": [
        "for pair in high_corr_pairs:\n",
        "    column1, column2 = pair\n",
        "    corr_with_target1 = abs(corr_matrix.iloc[column1, 0])\n",
        "    corr_with_target2 = abs(corr_matrix.iloc[column2, 0])\n",
        "\n",
        "    # Оставляем признак с более высокой корреляцией к целевой переменной\n",
        "    if corr_with_target1 > corr_with_target2:\n",
        "        columns_to_drop.add(column2)\n",
        "    else:\n",
        "        columns_to_drop.add(column1)"
      ]
    },
    {
      "cell_type": "code",
      "execution_count": null,
      "metadata": {
        "id": "RZvlZjUXBbRq"
      },
      "outputs": [],
      "source": [
        "dropped_multy_columns = balanced_data_80_20.columns[list(columns_to_drop)].tolist()"
      ]
    },
    {
      "cell_type": "code",
      "execution_count": null,
      "metadata": {
        "colab": {
          "base_uri": "https://localhost:8080/"
        },
        "id": "rmwQSbmwCIwZ",
        "outputId": "dc5de9e7-2868-4423-c062-8f9e4e40cb72"
      },
      "outputs": [
        {
          "name": "stdout",
          "output_type": "stream",
          "text": [
            "['feature3', 'feature4', 'feature5', 'feature7', 'feature8', 'feature9', 'feature10', 'feature11', 'feature13', 'feature14', 'feature15', 'feature16', 'feature17', 'feature18', 'feature19', 'feature21', 'feature24', 'feature25', 'feature29', 'feature30', 'feature32', 'feature46', 'feature47', 'feature50', 'feature51', 'feature54', 'feature55', 'feature62', 'feature63', 'feature67', 'feature88', 'feature89', 'feature90', 'feature96', 'feature98', 'feature101', 'feature102', 'feature103', 'feature104', 'feature105', 'feature108', 'feature109', 'feature114', 'feature118', 'feature119', 'feature120', 'feature121', 'feature122', 'feature126', 'feature129', 'feature130', 'feature134', 'feature135', 'feature136', 'feature138', 'feature141', 'feature142', 'feature148', 'feature149', 'feature150', 'feature151', 'feature156', 'feature157', 'feature165', 'feature172', 'feature177', 'feature180', 'feature181', 'feature182', 'feature185', 'feature187', 'feature188', 'feature189', 'feature190', 'feature193', 'feature198', 'feature201', 'feature206', 'feature207', 'feature208', 'feature209', 'feature210', 'feature211', 'feature212', 'feature213', 'feature232', 'feature233', 'feature234', 'feature235', 'feature236', 'feature237', 'feature238', 'feature239', 'feature240', 'feature241', 'feature242', 'feature243', 'feature244', 'feature245', 'feature246', 'feature247', 'feature248', 'feature249', 'feature250', 'feature251', 'feature252', 'feature253', 'feature254', 'feature255', 'feature256', 'feature257', 'feature258', 'feature259', 'feature261', 'feature263', 'feature264', 'feature265', 'feature266', 'feature269', 'feature270', 'feature271', 'feature272', 'feature282', 'feature284', 'feature309', 'feature310', 'feature313', 'feature314', 'feature315', 'feature317', 'feature318', 'feature343', 'feature344', 'feature347', 'feature348', 'feature349', 'feature350', 'feature354', 'feature355', 'feature358', 'feature360', 'feature361', 'feature368', 'feature370', 'feature371', 'feature374', 'feature375', 'feature379', 'feature391', 'feature392', 'feature393', 'feature396', 'feature398', 'feature426', 'feature427', 'feature428', 'feature437', 'feature438', 'feature444', 'feature445', 'feature468', 'feature469', 'feature474', 'feature479', 'feature481', 'feature485', 'feature486', 'feature487', 'feature490', 'feature493', 'feature495', 'feature497', 'feature517', 'feature523', 'feature524', 'feature535', 'feature539', 'feature543', 'feature545', 'feature546', 'feature579', 'feature580', 'feature581', 'feature582', 'feature583', 'feature584', 'feature585', 'feature586', 'feature589', 'feature590', 'feature591', 'feature592', 'feature593', 'feature594', 'feature595', 'feature596', 'feature597', 'feature598', 'feature600', 'feature601', 'feature602', 'feature603', 'feature604', 'feature605', 'feature606', 'feature607', 'feature608', 'feature609', 'feature610', 'feature611', 'feature612', 'feature613', 'feature614', 'feature615', 'feature632', 'feature641', 'feature646', 'feature647', 'feature653', 'feature675', 'feature676', 'feature680', 'feature681', 'feature691', 'feature692', 'feature695', 'feature696', 'feature721', 'feature724', 'feature730', 'feature733', 'feature736', 'feature739', 'feature742', 'feature745', 'feature746', 'feature747', 'feature763', 'feature810', 'feature812', 'feature826', 'feature857', 'feature858', 'feature859', 'feature860', 'feature864', 'feature865', 'feature868', 'feature869', 'feature871', 'feature872', 'feature873', 'feature874', 'feature875', 'feature876', 'feature877', 'feature879', 'feature887', 'feature891', 'feature896', 'feature900', 'feature907', 'feature908', 'feature909', 'feature930', 'feature931', 'feature939', 'feature940', 'feature941', 'feature942', 'feature943', 'feature944', 'feature951', 'feature952', 'feature953', 'feature986', 'feature987', 'feature989', 'feature990', 'feature991', 'feature992', 'feature993', 'feature994', 'feature996', 'feature998', 'feature999', 'feature1000', 'feature1001', 'feature1002', 'feature1003', 'feature1067', 'feature1068', 'feature1069', 'feature1074', 'feature1076']\n"
          ]
        }
      ],
      "source": [
        "print(dropped_multy_columns)"
      ]
    },
    {
      "cell_type": "code",
      "execution_count": null,
      "metadata": {
        "id": "kp_vG7ulAo6C"
      },
      "outputs": [],
      "source": [
        "balanced_data_80_20_filtered = balanced_data_80_20.drop(dropped_multy_columns, axis =1)"
      ]
    },
    {
      "cell_type": "code",
      "execution_count": null,
      "metadata": {
        "id": "P8HE1-OBCZde"
      },
      "outputs": [],
      "source": [
        "balanced_data_80_20_filtered.to_parquet('balanced_data_80_20_new.parquet', engine='pyarrow')"
      ]
    }
  ],
  "metadata": {
    "colab": {
      "provenance": []
    },
    "kernelspec": {
      "display_name": "Python 3",
      "name": "python3"
    },
    "language_info": {
      "name": "python"
    }
  },
  "nbformat": 4,
  "nbformat_minor": 0
}
