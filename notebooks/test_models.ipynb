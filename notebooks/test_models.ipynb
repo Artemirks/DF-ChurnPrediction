{
  "cells": [
    {
      "cell_type": "code",
      "execution_count": null,
      "metadata": {
        "id": "Za1pmfUGCYm3"
      },
      "outputs": [],
      "source": [
        "import pandas as pd\n",
        "from sklearn.model_selection import train_test_split\n",
        "from sklearn.metrics import roc_auc_score, f1_score, recall_score, precision_score\n",
        "from sklearn.model_selection import GridSearchCV\n",
        "import joblib"
      ]
    },
    {
      "cell_type": "code",
      "execution_count": null,
      "metadata": {
        "id": "LSpbzJwNEIBJ"
      },
      "outputs": [],
      "source": [
        "def prepare_dataset(filepath, scaler_filepath, pca_filepath): #подготовка данных для последующего обучения\n",
        "  balanced_data = pd.read_parquet(filepath)\n",
        "  X = balanced_data.drop(['target'], axis=1)\n",
        "  y = balanced_data['target']\n",
        "  X_train, X_test, y_train, y_test = train_test_split(X, y, test_size=0.3, stratify = y, random_state=42)\n",
        "\n",
        "  scaler = joblib.load(scaler_filepath)\n",
        "  pca = joblib.load(pca_filepath)\n",
        "\n",
        "  X_train_scaled = scaler.transform(X_train)\n",
        "  X_train_pca = pca.transform(X_train_scaled)\n",
        "\n",
        "  X_test_scaled = scaler.transform(X_test)\n",
        "  X_test_pca = pca.transform(X_test_scaled)\n",
        "  return X_train_pca, X_test_pca, y_train, y_test\n",
        "  #return X_train, X_test, y_train, y_test"
      ]
    },
    {
      "cell_type": "code",
      "execution_count": null,
      "metadata": {
        "id": "vCpDexIbEwjY"
      },
      "outputs": [],
      "source": [
        "def get_metrics(y_test, y_pred): #подсчет метрик\n",
        "  roc_auc = roc_auc_score(y_test, y_pred)\n",
        "  f1 = f1_score(y_test, y_pred)\n",
        "  recall = recall_score(y_test, y_pred)\n",
        "  precision = precision_score(y_test, y_pred)\n",
        "\n",
        "  print(f\"ROC AUC: {roc_auc}\")\n",
        "  print(f\"F1 Score: {f1}\")\n",
        "  print(f\"Recall: {recall}\")\n",
        "  print(f\"Precision: {precision}\")"
      ]
    },
    {
      "cell_type": "code",
      "execution_count": null,
      "metadata": {
        "id": "_3Rvz690EytM"
      },
      "outputs": [],
      "source": [
        "def make_test(model, X_train, y_train, X_test, y_test): #тестим что получили\n",
        "  model.fit(X_train, y_train)\n",
        "  predict = model.predict(X_test)\n",
        "  get_metrics(y_test, predict)"
      ]
    },
    {
      "cell_type": "code",
      "execution_count": null,
      "metadata": {
        "id": "WMXnn6ZpE3ri"
      },
      "outputs": [],
      "source": [
        "X_train, X_test, y_train, y_test = prepare_dataset('../data/balanced_data_80_20_new.parquet', 'scaler_80_20_new.joblib', 'pca_80_20_new.joblib')\n",
        "#путь к датасету и к файлам scaller и pca"
      ]
    },
    {
      "cell_type": "code",
      "execution_count": null,
      "metadata": {
        "colab": {
          "background_save": true
        },
        "id": "21ihZtmjlSQj"
      },
      "outputs": [],
      "source": [
        "from sklearn.neighbors import KNeighborsClassifier\n",
        "knn_parameters = {\n",
        "    'n_neighbors': [2, 3, 5, 7, 10, 15],\n",
        "    'weights': ['uniform', 'distance'],\n",
        "    'algorithm': ['auto', 'ball_tree', 'kd_tree', 'brute'],\n",
        "    'p': [1, 2]\n",
        "}\n",
        "\n",
        "knn_model = KNeighborsClassifier()\n",
        "grid_search_knn = GridSearchCV(estimator=knn_model, param_grid=knn_parameters, cv=5, scoring='roc_auc')\n",
        "grid_search_knn.fit(X_train, y_train)\n",
        "\n",
        "# Лучшие параметры\n",
        "best_params_knn = grid_search_knn.best_params_\n",
        "best_knn_model = grid_search_knn.best_estimator_\n",
        "print(f'Best Hyperparameters for KNN: {best_params_knn}')\n",
        "print(f'ROC AUC for KNN: {grid_search_knn.best_score_}')\n"
      ]
    },
    {
      "cell_type": "code",
      "execution_count": null,
      "metadata": {
        "id": "xP-bdxbyKaqM"
      },
      "outputs": [],
      "source": [
        "#если пишут что No module named, то его нужно скачать\n",
        "%pip install catboost"
      ]
    },
    {
      "cell_type": "code",
      "execution_count": null,
      "metadata": {
        "id": "fqbhf3k0sjDZ"
      },
      "outputs": [],
      "source": [
        "from catboost import CatBoostClassifier #тут загружаем нужную нам модель"
      ]
    },
    {
      "cell_type": "code",
      "execution_count": null,
      "metadata": {
        "id": "BlzjkCGxFI7N"
      },
      "outputs": [],
      "source": [
        "\n",
        "#тут пишем объект параметров, где ключ это то, что мы хотим изменять, а значения массив возможных значений\n",
        "parameters = {\n",
        "    'learning_rate': [0.01, 0.05, 0.1],\n",
        "    'depth': [3, 5, 7, 10],\n",
        "    'l2_leaf_reg': [5, 7, 9, 20, 40],\n",
        "    \"min_data_in_leaf\": [1, 3, 5, 10]\n",
        "}\n",
        "\n",
        "model = CatBoostClassifier(loss_function ='Logloss',iterations=200, random_state=42,early_stopping_rounds=50, silent=True) #заменяем на тестируюмую модель, обязательно random_state = 42\n",
        "grid_search_clas = GridSearchCV(estimator=model, param_grid=parameters, cv=3, scoring='roc_auc', verbose=3)\n",
        "grid_search_clas.fit(X_train, y_train)\n",
        "\n",
        "# Лучшие параметры\n",
        "best_params_clas = grid_search_clas.best_params_\n",
        "\n",
        "print(f'Best Hyperparameters: {best_params_clas}')"
      ]
    },
    {
      "cell_type": "code",
      "execution_count": null,
      "metadata": {
        "colab": {
          "base_uri": "https://localhost:8080/"
        },
        "id": "ey77szxUFn1z",
        "outputId": "dd51f4c3-0bb6-4a5c-fc6d-71aff5a041d3"
      },
      "outputs": [
        {
          "name": "stdout",
          "output_type": "stream",
          "text": [
            "ROC AUC: 0.6520465142023415\n",
            "F1 Score: 0.6425272492148532\n",
            "Recall: 0.6259899208063355\n",
            "Precision: 0.6599620493358633\n"
          ]
        }
      ],
      "source": [
        "make_test(best_log_model, X_train, y_train, X_test, y_test)\n",
        "best_log_model.save_model('best_catboost_model')\n",
        "#joblib.dump(best_log_model, 'best_catboost.joblib')\n",
        "#cтрочка для сохранения модели. Раскоментируйте, если захотите сохранить (лучше сохранять всегда, когда делаете). Вторым параметром передаем имя файла"
      ]
    },
    {
      "cell_type": "code",
      "execution_count": null,
      "metadata": {
        "id": "EYZo3hf7doyI"
      },
      "outputs": [],
      "source": [
        "X_train, X_valid, y_train, y_valid = train_test_split(X_train, y_train, test_size=0.2, random_state=42)"
      ]
    },
    {
      "cell_type": "code",
      "execution_count": null,
      "metadata": {
        "id": "kl0ov3QDo3GW"
      },
      "outputs": [],
      "source": [
        "model = CatBoostClassifier(depth =  5, l2_leaf_reg = 7, early_stopping_rounds=100,\n",
        "                           learning_rate = 0.01, min_data_in_leaf = 3, random_state=42,\n",
        "                           iterations=10000, loss_function ='Logloss')\n",
        "model.fit(X_train, y_train, eval_set=(X_valid, y_valid),verbose=True)"
      ]
    },
    {
      "cell_type": "code",
      "execution_count": null,
      "metadata": {
        "id": "eEoQ0Lols6jI"
      },
      "outputs": [],
      "source": [
        "pred = model.predict_proba(X_test)\n",
        "\n",
        "pred = pred[:, 1]\n",
        "pred_binary = (pred >= 0.1)"
      ]
    },
    {
      "cell_type": "code",
      "execution_count": null,
      "metadata": {
        "colab": {
          "base_uri": "https://localhost:8080/"
        },
        "id": "8BvCgajuthfW",
        "outputId": "8975a2f8-d80e-4995-e252-b45fcefea79f"
      },
      "outputs": [
        {
          "name": "stdout",
          "output_type": "stream",
          "text": [
            "ROC AUC: 0.5701493669043178\n",
            "F1 Score: 0.3660098865139595\n",
            "Recall: 0.9453335730983636\n",
            "Precision: 0.22693718972587956\n"
          ]
        }
      ],
      "source": [
        "get_metrics(y_test, pred_binary)"
      ]
    },
    {
      "cell_type": "code",
      "execution_count": null,
      "metadata": {
        "colab": {
          "base_uri": "https://localhost:8080/"
        },
        "id": "-rWestwctkzd",
        "outputId": "2e0eafbe-c246-4625-8fd6-2b47d47c9ecd"
      },
      "outputs": [
        {
          "name": "stdout",
          "output_type": "stream",
          "text": [
            "Best F1 Score: 0.6540708419976339 at threshold 0.2\n",
            "ROC AUC: 0.6540708419976339\n",
            "F1 Score: 0.4329070433288795\n",
            "Recall: 0.6117604747347599\n",
            "Precision: 0.33497439936983064\n"
          ]
        }
      ],
      "source": [
        "best_threshold = 0.5\n",
        "best_f1_score = 0.0\n",
        "\n",
        "for threshold in [0.1, 0.2, 0.3, 0.4, 0.5, 0.6, 0.7, 0.8, 0.9]:\n",
        "    pred_binary = (pred >= threshold)\n",
        "    f1 = roc_auc_score(y_test, pred_binary)\n",
        "    if f1 > best_f1_score:\n",
        "        best_f1_score = f1\n",
        "        best_threshold = threshold\n",
        "\n",
        "print(f\"Best F1 Score: {best_f1_score} at threshold {best_threshold}\")\n",
        "pred_binary = (pred >= best_threshold)\n",
        "get_metrics(y_test, pred_binary)"
      ]
    },
    {
      "cell_type": "code",
      "execution_count": null,
      "metadata": {
        "id": "R3lU28T-wrgp"
      },
      "outputs": [],
      "source": [
        "model.save_model('best_catboost_model_80_20_new_more_iter')"
      ]
    }
  ],
  "metadata": {
    "colab": {
      "provenance": []
    },
    "kernelspec": {
      "display_name": "Python 3",
      "name": "python3"
    },
    "language_info": {
      "name": "python"
    }
  },
  "nbformat": 4,
  "nbformat_minor": 0
}
