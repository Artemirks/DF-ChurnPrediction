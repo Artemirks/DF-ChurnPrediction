{
  "nbformat": 4,
  "nbformat_minor": 0,
  "metadata": {
    "colab": {
      "provenance": []
    },
    "kernelspec": {
      "name": "python3",
      "display_name": "Python 3"
    },
    "language_info": {
      "name": "python"
    }
  },
  "cells": [
    {
      "cell_type": "code",
      "execution_count": null,
      "metadata": {
        "id": "04vlSKZeuQvf"
      },
      "outputs": [],
      "source": [
        "import dask.dataframe as dd\n",
        "import pandas as pd"
      ]
    },
    {
      "cell_type": "code",
      "source": [
        "data = dd.read_parquet('/content/drive/MyDrive/DF-ChurnPrediction/data/new_selected_data.parquet', engine=\"pyarrow\")"
      ],
      "metadata": {
        "id": "ojcF55Nmui6w"
      },
      "execution_count": null,
      "outputs": []
    },
    {
      "cell_type": "code",
      "source": [
        "data = data.compute()"
      ],
      "metadata": {
        "id": "ZoxB1ZlT26BI"
      },
      "execution_count": null,
      "outputs": []
    },
    {
      "cell_type": "code",
      "source": [
        "X = data.drop(['target', 'id'], axis=1)\n",
        "y = data['target']"
      ],
      "metadata": {
        "id": "cVa97tbL68tc"
      },
      "execution_count": null,
      "outputs": []
    },
    {
      "cell_type": "code",
      "source": [
        "def get_metrics(y_test, y_pred):\n",
        "  roc_auc = roc_auc_score(y_test, y_pred)\n",
        "  f1 = f1_score(y_test, y_pred)\n",
        "  recall = recall_score(y_test, y_pred)\n",
        "  precision = precision_score(y_test, y_pred)\n",
        "\n",
        "  print(f\"ROC AUC: {roc_auc}\")\n",
        "  print(f\"F1 Score: {f1}\")\n",
        "  print(f\"Recall: {recall}\")\n",
        "  print(f\"Precision: {precision}\")"
      ],
      "metadata": {
        "id": "wr4MNxQ67G_M"
      },
      "execution_count": null,
      "outputs": []
    },
    {
      "cell_type": "markdown",
      "source": [
        "## Baseline\n",
        "В качестве baseline будем использовать модель, которая прогнозирует значение 1"
      ],
      "metadata": {
        "id": "RVNtX-AP60Ub"
      }
    },
    {
      "cell_type": "code",
      "source": [
        "import numpy as np\n",
        "from sklearn.model_selection import train_test_split\n",
        "from sklearn.metrics import roc_auc_score, f1_score, recall_score, precision_score\n",
        "\n",
        "X_train, X_test, y_train, y_test = train_test_split(X.compute(), y.compute(), test_size=0.3, random_state=42)\n",
        "\n",
        "baseline_model = np.random.choice([0, 1], size=len(y_test), p=[0.5, 0.5])\n",
        "get_metrics(y_test, baseline_model)"
      ],
      "metadata": {
        "colab": {
          "base_uri": "https://localhost:8080/"
        },
        "id": "g0004tfs63Bo",
        "outputId": "bd6183e1-eae5-44c2-a3f0-445f0f3d3f50"
      },
      "execution_count": null,
      "outputs": [
        {
          "output_type": "stream",
          "name": "stdout",
          "text": [
            "ROC AUC: 0.500793728020122\n",
            "F1 Score: 0.06646329746348963\n",
            "Recall: 0.500180766449747\n",
            "Precision: 0.035596665465959965\n"
          ]
        }
      ]
    },
    {
      "cell_type": "code",
      "source": [
        "data['target'].compute().value_counts()"
      ],
      "metadata": {
        "colab": {
          "base_uri": "https://localhost:8080/"
        },
        "id": "-wufDuvo6PzE",
        "outputId": "88496074-0da9-469a-d5f7-8f94ef2cadbe"
      },
      "execution_count": null,
      "outputs": [
        {
          "output_type": "execute_result",
          "data": {
            "text/plain": [
              "0    501078\n",
              "1     18537\n",
              "Name: target, dtype: int64"
            ]
          },
          "metadata": {},
          "execution_count": 7
        }
      ]
    },
    {
      "cell_type": "markdown",
      "source": [
        "В целовой переменной наблюдается сильный дисбаланс классов"
      ],
      "metadata": {
        "id": "3f5w1mcZ9HaO"
      }
    },
    {
      "cell_type": "markdown",
      "source": [
        "## Downsampling"
      ],
      "metadata": {
        "id": "UyxJVf0m-9Wa"
      }
    },
    {
      "cell_type": "code",
      "source": [
        "from sklearn.utils import resample\n",
        "\n",
        "class_0 = data[data['target'] == 0]\n",
        "class_1 = data[data['target'] == 1]\n",
        "\n",
        "class_0_downsampled = resample(class_0, replace=False, n_samples=len(class_1), random_state=42)\n",
        "\n",
        "balanced_data = pd.concat([class_0_downsampled, class_1])\n",
        "\n",
        "balanced_data = balanced_data.sample(frac=1, random_state=42)"
      ],
      "metadata": {
        "id": "dKP_tGeb_A9K"
      },
      "execution_count": null,
      "outputs": []
    },
    {
      "cell_type": "code",
      "source": [
        "balanced_data.shape"
      ],
      "metadata": {
        "colab": {
          "base_uri": "https://localhost:8080/"
        },
        "id": "GlP8jMca_p1K",
        "outputId": "6d68fe51-b6d2-4ca3-b3c7-1e7442f21565"
      },
      "execution_count": null,
      "outputs": [
        {
          "output_type": "execute_result",
          "data": {
            "text/plain": [
              "(37074, 707)"
            ]
          },
          "metadata": {},
          "execution_count": 6
        }
      ]
    },
    {
      "cell_type": "code",
      "source": [
        "balanced_data.to_parquet('balanced_data.parquet', engine='pyarrow')"
      ],
      "metadata": {
        "id": "byuqs8PsAHpZ"
      },
      "execution_count": null,
      "outputs": []
    },
    {
      "cell_type": "markdown",
      "source": [],
      "metadata": {
        "id": "4WBl6Ilb8_Vu"
      }
    },
    {
      "cell_type": "code",
      "source": [],
      "metadata": {
        "id": "xmfMXHm79RGV"
      },
      "execution_count": null,
      "outputs": []
    },
    {
      "cell_type": "markdown",
      "source": [],
      "metadata": {
        "id": "0lHx6gCi4Xo7"
      }
    },
    {
      "cell_type": "code",
      "source": [],
      "metadata": {
        "id": "UZdMv1GYwnjC"
      },
      "execution_count": null,
      "outputs": []
    }
  ]
}